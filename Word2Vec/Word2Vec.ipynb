{
  "nbformat": 4,
  "nbformat_minor": 0,
  "metadata": {
    "colab": {
      "provenance": [],
      "authorship_tag": "ABX9TyPQzXnJZqL8aJ9azbN42SiS",
      "include_colab_link": true
    },
    "kernelspec": {
      "name": "python3",
      "display_name": "Python 3"
    },
    "language_info": {
      "name": "python"
    }
  },
  "cells": [
    {
      "cell_type": "markdown",
      "metadata": {
        "id": "view-in-github",
        "colab_type": "text"
      },
      "source": [
        "<a href=\"https://colab.research.google.com/github/kunwarAbhay/NLP/blob/main/Word2Vec/Word2Vec.ipynb\" target=\"_parent\"><img src=\"https://colab.research.google.com/assets/colab-badge.svg\" alt=\"Open In Colab\"/></a>"
      ]
    },
    {
      "cell_type": "code",
      "source": [
        "!pip install torchmetrics"
      ],
      "metadata": {
        "id": "U-ZreKNkwljv"
      },
      "execution_count": null,
      "outputs": []
    },
    {
      "cell_type": "code",
      "source": [
        "import torch\n",
        "import torch.nn as nn\n",
        "import numpy as np\n",
        "import torchmetrics\n",
        "from torchmetrics.classification import MulticlassAccuracy\n",
        "from torch.utils.data import Dataset, DataLoader"
      ],
      "metadata": {
        "id": "SvsX-m_SwiZt"
      },
      "execution_count": 129,
      "outputs": []
    },
    {
      "cell_type": "code",
      "source": [
        "corpus = [\"apple banana fruit\", \"banana orange fruit\", \"orange banana fruit\", \"dog cat animal\", \"cat monkey animal\", \"monkey dog animal\"]\n",
        "\n",
        "vocabulary = list(set(\" \".join(corpus).split(\" \"))) # Set of unique words in corpus\n",
        "word_dict = {word : pos for pos, word in enumerate(vocabulary)}\n",
        "\n",
        "print(\"Vocabulary: \", vocabulary)\n",
        "print(\"Word Dictionary: \", word_dict)"
      ],
      "metadata": {
        "colab": {
          "base_uri": "https://localhost:8080/"
        },
        "id": "S4nW_HMU2jds",
        "outputId": "5cecc5d9-9f0c-4a7c-8b20-ce0d37aca845"
      },
      "execution_count": 143,
      "outputs": [
        {
          "output_type": "stream",
          "name": "stdout",
          "text": [
            "Vocabulary:  ['fruit', 'animal', 'apple', 'cat', 'monkey', 'orange', 'dog', 'banana']\n",
            "Word Dictionary:  {'fruit': 0, 'animal': 1, 'apple': 2, 'cat': 3, 'monkey': 4, 'orange': 5, 'dog': 6, 'banana': 7}\n"
          ]
        }
      ]
    },
    {
      "cell_type": "code",
      "source": [
        "window_size = 1\n",
        "skip_grams = []\n",
        "\n",
        "for sentence in corpus:\n",
        "  sentence = sentence.split(\" \")\n",
        "  for i in range(len(sentence)):\n",
        "    context_start = min(i - window_size, 0)\n",
        "    context_end = min(i + window_size, len(sentence) - 1)\n",
        "    for j in range(context_start, context_end):\n",
        "      if i != j:\n",
        "        skip_grams.append([word_dict[sentence[i]], word_dict[sentence[j]]])\n",
        "\n",
        "print(\"Skip Grams: \", skip_grams)"
      ],
      "metadata": {
        "colab": {
          "base_uri": "https://localhost:8080/"
        },
        "id": "WWl-YBtD5TtH",
        "outputId": "04eb7c88-c6ae-4a6d-ae43-c27ded4a512e"
      },
      "execution_count": 144,
      "outputs": [
        {
          "output_type": "stream",
          "name": "stdout",
          "text": [
            "Skip Grams:  [[2, 0], [7, 2], [0, 2], [0, 7], [7, 0], [5, 7], [0, 7], [0, 5], [5, 0], [7, 5], [0, 5], [0, 7], [6, 1], [3, 6], [1, 6], [1, 3], [3, 1], [4, 3], [1, 3], [1, 4], [4, 1], [6, 4], [1, 4], [1, 6]]\n"
          ]
        }
      ]
    },
    {
      "cell_type": "code",
      "source": [
        "BATCH_SIZE = 4\n",
        "EMBEDDING_SIZE = 2\n",
        "VOCAB_SIZE = len(word_dict)"
      ],
      "metadata": {
        "id": "tJe-oMat6AmL"
      },
      "execution_count": 145,
      "outputs": []
    },
    {
      "cell_type": "code",
      "source": [
        "class Word2Vec(nn.Module):\n",
        "  def __init__(self, vocab_size, embedding_size):\n",
        "    super().__init__()\n",
        "    self.vocab_size = vocab_size\n",
        "    self.embedding_size = embedding_size\n",
        "\n",
        "    self.layers = nn.Sequential(\n",
        "        nn.Linear(vocab_size, embedding_size, bias=False), # hidden layer\n",
        "        nn.Linear(embedding_size, vocab_size, bias=False), # output layer\n",
        "    )\n",
        "\n",
        "  def forward(self, x):\n",
        "    return self.layers(x)"
      ],
      "metadata": {
        "id": "z6mlWQOup5QY"
      },
      "execution_count": 146,
      "outputs": []
    },
    {
      "cell_type": "code",
      "source": [
        "model = Word2Vec(vocab_size=VOCAB_SIZE, embedding_size=EMBEDDING_SIZE)\n",
        "\n",
        "loss_fn = nn.CrossEntropyLoss()\n",
        "acc_fn = MulticlassAccuracy(num_classes=VOCAB_SIZE)\n",
        "optimizer = torch.optim.Adam(params=model.parameters(), lr=0.01)"
      ],
      "metadata": {
        "id": "gzBrn5F6tGFN"
      },
      "execution_count": 147,
      "outputs": []
    },
    {
      "cell_type": "code",
      "source": [
        "class WordDataset(Dataset):\n",
        "  def __init__(self, data, vocab_size):\n",
        "    super().__init__()\n",
        "    self.data = data\n",
        "    self.vocab_size =  vocab_size\n",
        "    self.size = len(data)\n",
        "\n",
        "  def __len__(self):\n",
        "    return self.size\n",
        "\n",
        "  def __getitem__(self, index):\n",
        "    target = torch.zeros(size=(self.vocab_size,))\n",
        "    target[self.data[index][0]] = 1\n",
        "\n",
        "    context = self.data[index][1]\n",
        "\n",
        "    return target, context"
      ],
      "metadata": {
        "id": "ISIxPrCqCgTy"
      },
      "execution_count": 148,
      "outputs": []
    },
    {
      "cell_type": "code",
      "source": [
        "dataset = WordDataset(skip_grams, vocab_size=VOCAB_SIZE)"
      ],
      "metadata": {
        "id": "H-Ab6wrgE18k"
      },
      "execution_count": 149,
      "outputs": []
    },
    {
      "cell_type": "code",
      "source": [
        "loader = DataLoader(\n",
        "    dataset,\n",
        "    batch_size=BATCH_SIZE,\n",
        "    shuffle=True,\n",
        ")"
      ],
      "metadata": {
        "id": "6WkltjLSENUg"
      },
      "execution_count": 150,
      "outputs": []
    },
    {
      "cell_type": "code",
      "source": [
        "torch.manual_seed(42)\n",
        "\n",
        "epochs = 1000\n",
        "\n",
        "# Build training and evaluation loop\n",
        "for epoch in range(epochs):\n",
        "\n",
        "  train_loss, test_loss = 0, 0\n",
        "  train_acc, test_acc = 0, 0\n",
        "\n",
        "  for X, y in loader:\n",
        "    ## TRAINING\n",
        "    model.train()\n",
        "\n",
        "    # 1. Forward Pass\n",
        "    y_logits = model(X)\n",
        "    y_pred = torch.softmax(y_logits, dim=1)\n",
        "\n",
        "    # 2. Calculate the loss\n",
        "    loss = loss_fn(y_logits, y)\n",
        "    acc = acc_fn(y_pred, y)\n",
        "\n",
        "    train_loss += loss\n",
        "    train_acc += acc\n",
        "\n",
        "    # 3. Optimizer zero grad\n",
        "    optimizer.zero_grad()\n",
        "\n",
        "    # 4. Loss backward\n",
        "    loss.backward()\n",
        "\n",
        "    # 5. Optimizer step\n",
        "    optimizer.step()\n",
        "\n",
        "    ## TESTING\n",
        "    model.eval()\n",
        "    with torch.inference_mode():\n",
        "      test_logits = model(X)\n",
        "      test_pred = torch.softmax(test_logits, dim=1)\n",
        "\n",
        "      test_loss += loss_fn(test_logits, y)\n",
        "      test_acc += acc_fn(test_pred, y)\n",
        "\n",
        "  train_loss = train_loss / len(loader)\n",
        "  train_acc = train_acc / len(loader)\n",
        "  test_loss = test_loss / len(loader)\n",
        "  test_acc = test_acc / len(loader)\n",
        "\n",
        "  if epoch % 100 == 0:\n",
        "    print(f\"Epoch: {epoch} | Loss: {loss:.2f} | Accuracy: {acc:.2f} | Test Loss: {test_loss:.2f} | Test Accuracy: {test_acc:.2f}\")"
      ],
      "metadata": {
        "colab": {
          "base_uri": "https://localhost:8080/"
        },
        "id": "ssbJPqNEsw3a",
        "outputId": "80f5a663-dd3d-4e9e-9bca-c2cdcc7820af"
      },
      "execution_count": 151,
      "outputs": [
        {
          "output_type": "stream",
          "name": "stdout",
          "text": [
            "Epoch: 0 | Loss: 2.13 | Accuracy: 0.00 | Test Loss: 2.09 | Test Accuracy: 0.09\n",
            "Epoch: 100 | Loss: 1.37 | Accuracy: 0.25 | Test Loss: 1.15 | Test Accuracy: 0.38\n",
            "Epoch: 200 | Loss: 1.29 | Accuracy: 0.14 | Test Loss: 1.12 | Test Accuracy: 0.36\n",
            "Epoch: 300 | Loss: 1.21 | Accuracy: 0.20 | Test Loss: 1.11 | Test Accuracy: 0.30\n",
            "Epoch: 400 | Loss: 1.22 | Accuracy: 0.17 | Test Loss: 1.10 | Test Accuracy: 0.28\n",
            "Epoch: 500 | Loss: 1.07 | Accuracy: 0.40 | Test Loss: 1.09 | Test Accuracy: 0.30\n",
            "Epoch: 600 | Loss: 1.55 | Accuracy: 0.00 | Test Loss: 1.08 | Test Accuracy: 0.38\n",
            "Epoch: 700 | Loss: 1.36 | Accuracy: 0.14 | Test Loss: 1.08 | Test Accuracy: 0.40\n",
            "Epoch: 800 | Loss: 1.00 | Accuracy: 0.50 | Test Loss: 1.07 | Test Accuracy: 0.34\n",
            "Epoch: 900 | Loss: 1.17 | Accuracy: 0.17 | Test Loss: 1.07 | Test Accuracy: 0.31\n"
          ]
        }
      ]
    },
    {
      "cell_type": "code",
      "source": [
        "# Extract the hidden layer learned parameters\n",
        "hidden_layer = next(model.parameters()).detach().numpy()\n",
        "\n",
        "lookup_table = []\n",
        "\n",
        "for word in word_dict:\n",
        "  index = word_dict[word]\n",
        "  lookup_table.append([hidden_layer[0][index], hidden_layer[1][index]])\n",
        "\n",
        "print(\"Lookup Table:\")\n",
        "print(lookup_table)"
      ],
      "metadata": {
        "colab": {
          "base_uri": "https://localhost:8080/"
        },
        "id": "s2wHZLV7xCOK",
        "outputId": "1c1683b1-d475-47ed-a7f6-a666a2174dc1"
      },
      "execution_count": 152,
      "outputs": [
        {
          "output_type": "stream",
          "name": "stdout",
          "text": [
            "Lookup Table:\n",
            "[[1.5623918, 2.882977], [-2.7095935, 1.6490853], [4.050278, -3.2552803], [-0.8362339, -0.7043693], [-4.8082514, -2.3000093], [10.434062, 0.38669512], [-0.80116475, -0.699904], [1.0853459, -0.045778923]]\n"
          ]
        }
      ]
    },
    {
      "cell_type": "code",
      "source": [
        "lookup_table = np.array(lookup_table)"
      ],
      "metadata": {
        "id": "T7o9y3cD3mPy"
      },
      "execution_count": 153,
      "outputs": []
    },
    {
      "cell_type": "code",
      "source": [
        "import matplotlib.pyplot as plt\n",
        "\n",
        "plt.figure(figsize=(9,9))\n",
        "plt.scatter(lookup_table[:, 0], lookup_table[:, 1])\n",
        "\n",
        "for i in range(len(lookup_table)):\n",
        "  plt.text(lookup_table[i][0], lookup_table[i][1], vocabulary[i])"
      ],
      "metadata": {
        "colab": {
          "base_uri": "https://localhost:8080/",
          "height": 753
        },
        "id": "In83_cLhrb0Y",
        "outputId": "b3510461-0d56-4f05-af12-8fdf424a7022"
      },
      "execution_count": 154,
      "outputs": [
        {
          "output_type": "display_data",
          "data": {
            "text/plain": [
              "<Figure size 900x900 with 1 Axes>"
            ],
            "image/png": "[encoded data removed]"
          },
          "metadata": {}
        }
      ]
    },
    {
      "cell_type": "markdown",
      "source": [
        "# Reference\n",
        "\n",
        "\n",
        "*   [word2vec-tutorial-the-skip-gram-model](https://mccormickml.com/2016/04/19/word2vec-tutorial-the-skip-gram-model/)\n",
        "*   [illustrated-word2vec](https://jalammar.github.io/illustrated-word2vec/)\n",
        "*   [graykode/nlp-tutorial](https://github.com/graykode/nlp-tutorial/)\n",
        "\n",
        "\n"
      ],
      "metadata": {
        "id": "r-VRjskA_j3K"
      }
    }
  ]
}