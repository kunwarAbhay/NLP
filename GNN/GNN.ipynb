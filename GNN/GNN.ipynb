{
  "nbformat": 4,
  "nbformat_minor": 0,
  "metadata": {
    "colab": {
      "provenance": [],
      "authorship_tag": "ABX9TyNP8c/AjKwx150Q7RygWIpO",
      "include_colab_link": true
    },
    "kernelspec": {
      "name": "python3",
      "display_name": "Python 3"
    },
    "language_info": {
      "name": "python"
    },
    "widgets": {
      "application/vnd.jupyter.widget-state+json": {
        "6c79eed2a79b42369ee94382f96d12bf": {
          "model_module": "@jupyter-widgets/controls",
          "model_name": "HBoxModel",
          "model_module_version": "1.5.0",
          "state": {
            "_dom_classes": [],
            "_model_module": "@jupyter-widgets/controls",
            "_model_module_version": "1.5.0",
            "_model_name": "HBoxModel",
            "_view_count": null,
            "_view_module": "@jupyter-widgets/controls",
            "_view_module_version": "1.5.0",
            "_view_name": "HBoxView",
            "box_style": "",
            "children": [
              "IPY_MODEL_1beacb0873ff4ac59fca44af00ed44ca",
              "IPY_MODEL_53ff177066444cba8029108766250842",
              "IPY_MODEL_0b8374c93936479dbce94ef672f4c717"
            ],
            "layout": "IPY_MODEL_7056dfa4ad674c4bb5b4c926f5b3d43d"
          }
        },
        "1beacb0873ff4ac59fca44af00ed44ca": {
          "model_module": "@jupyter-widgets/controls",
          "model_name": "HTMLModel",
          "model_module_version": "1.5.0",
          "state": {
            "_dom_classes": [],
            "_model_module": "@jupyter-widgets/controls",
            "_model_module_version": "1.5.0",
            "_model_name": "HTMLModel",
            "_view_count": null,
            "_view_module": "@jupyter-widgets/controls",
            "_view_module_version": "1.5.0",
            "_view_name": "HTMLView",
            "description": "",
            "description_tooltip": null,
            "layout": "IPY_MODEL_50d497af596449d58c49655d4c341a47",
            "placeholder": "​",
            "style": "IPY_MODEL_2763f3704ce64c388225933a2f92aa38",
            "value": "100%"
          }
        },
        "53ff177066444cba8029108766250842": {
          "model_module": "@jupyter-widgets/controls",
          "model_name": "FloatProgressModel",
          "model_module_version": "1.5.0",
          "state": {
            "_dom_classes": [],
            "_model_module": "@jupyter-widgets/controls",
            "_model_module_version": "1.5.0",
            "_model_name": "FloatProgressModel",
            "_view_count": null,
            "_view_module": "@jupyter-widgets/controls",
            "_view_module_version": "1.5.0",
            "_view_name": "ProgressView",
            "bar_style": "success",
            "description": "",
            "description_tooltip": null,
            "layout": "IPY_MODEL_1b565ebf73ea40ae83fffc3ad0944962",
            "max": 1200,
            "min": 0,
            "orientation": "horizontal",
            "style": "IPY_MODEL_0f04141ef71e47eda492db4a5b94cef5",
            "value": 1200
          }
        },
        "0b8374c93936479dbce94ef672f4c717": {
          "model_module": "@jupyter-widgets/controls",
          "model_name": "HTMLModel",
          "model_module_version": "1.5.0",
          "state": {
            "_dom_classes": [],
            "_model_module": "@jupyter-widgets/controls",
            "_model_module_version": "1.5.0",
            "_model_name": "HTMLModel",
            "_view_count": null,
            "_view_module": "@jupyter-widgets/controls",
            "_view_module_version": "1.5.0",
            "_view_name": "HTMLView",
            "description": "",
            "description_tooltip": null,
            "layout": "IPY_MODEL_adf3ba23030f40699f2c3556857c3aae",
            "placeholder": "​",
            "style": "IPY_MODEL_40b9110752e648fb8e565bd8931663e8",
            "value": " 1200/1200 [00:04&lt;00:00, 301.02it/s]"
          }
        },
        "7056dfa4ad674c4bb5b4c926f5b3d43d": {
          "model_module": "@jupyter-widgets/base",
          "model_name": "LayoutModel",
          "model_module_version": "1.2.0",
          "state": {
            "_model_module": "@jupyter-widgets/base",
            "_model_module_version": "1.2.0",
            "_model_name": "LayoutModel",
            "_view_count": null,
            "_view_module": "@jupyter-widgets/base",
            "_view_module_version": "1.2.0",
            "_view_name": "LayoutView",
            "align_content": null,
            "align_items": null,
            "align_self": null,
            "border": null,
            "bottom": null,
            "display": null,
            "flex": null,
            "flex_flow": null,
            "grid_area": null,
            "grid_auto_columns": null,
            "grid_auto_flow": null,
            "grid_auto_rows": null,
            "grid_column": null,
            "grid_gap": null,
            "grid_row": null,
            "grid_template_areas": null,
            "grid_template_columns": null,
            "grid_template_rows": null,
            "height": null,
            "justify_content": null,
            "justify_items": null,
            "left": null,
            "margin": null,
            "max_height": null,
            "max_width": null,
            "min_height": null,
            "min_width": null,
            "object_fit": null,
            "object_position": null,
            "order": null,
            "overflow": null,
            "overflow_x": null,
            "overflow_y": null,
            "padding": null,
            "right": null,
            "top": null,
            "visibility": null,
            "width": null
          }
        },
        "50d497af596449d58c49655d4c341a47": {
          "model_module": "@jupyter-widgets/base",
          "model_name": "LayoutModel",
          "model_module_version": "1.2.0",
          "state": {
            "_model_module": "@jupyter-widgets/base",
            "_model_module_version": "1.2.0",
            "_model_name": "LayoutModel",
            "_view_count": null,
            "_view_module": "@jupyter-widgets/base",
            "_view_module_version": "1.2.0",
            "_view_name": "LayoutView",
            "align_content": null,
            "align_items": null,
            "align_self": null,
            "border": null,
            "bottom": null,
            "display": null,
            "flex": null,
            "flex_flow": null,
            "grid_area": null,
            "grid_auto_columns": null,
            "grid_auto_flow": null,
            "grid_auto_rows": null,
            "grid_column": null,
            "grid_gap": null,
            "grid_row": null,
            "grid_template_areas": null,
            "grid_template_columns": null,
            "grid_template_rows": null,
            "height": null,
            "justify_content": null,
            "justify_items": null,
            "left": null,
            "margin": null,
            "max_height": null,
            "max_width": null,
            "min_height": null,
            "min_width": null,
            "object_fit": null,
            "object_position": null,
            "order": null,
            "overflow": null,
            "overflow_x": null,
            "overflow_y": null,
            "padding": null,
            "right": null,
            "top": null,
            "visibility": null,
            "width": null
          }
        },
        "2763f3704ce64c388225933a2f92aa38": {
          "model_module": "@jupyter-widgets/controls",
          "model_name": "DescriptionStyleModel",
          "model_module_version": "1.5.0",
          "state": {
            "_model_module": "@jupyter-widgets/controls",
            "_model_module_version": "1.5.0",
            "_model_name": "DescriptionStyleModel",
            "_view_count": null,
            "_view_module": "@jupyter-widgets/base",
            "_view_module_version": "1.2.0",
            "_view_name": "StyleView",
            "description_width": ""
          }
        },
        "1b565ebf73ea40ae83fffc3ad0944962": {
          "model_module": "@jupyter-widgets/base",
          "model_name": "LayoutModel",
          "model_module_version": "1.2.0",
          "state": {
            "_model_module": "@jupyter-widgets/base",
            "_model_module_version": "1.2.0",
            "_model_name": "LayoutModel",
            "_view_count": null,
            "_view_module": "@jupyter-widgets/base",
            "_view_module_version": "1.2.0",
            "_view_name": "LayoutView",
            "align_content": null,
            "align_items": null,
            "align_self": null,
            "border": null,
            "bottom": null,
            "display": null,
            "flex": null,
            "flex_flow": null,
            "grid_area": null,
            "grid_auto_columns": null,
            "grid_auto_flow": null,
            "grid_auto_rows": null,
            "grid_column": null,
            "grid_gap": null,
            "grid_row": null,
            "grid_template_areas": null,
            "grid_template_columns": null,
            "grid_template_rows": null,
            "height": null,
            "justify_content": null,
            "justify_items": null,
            "left": null,
            "margin": null,
            "max_height": null,
            "max_width": null,
            "min_height": null,
            "min_width": null,
            "object_fit": null,
            "object_position": null,
            "order": null,
            "overflow": null,
            "overflow_x": null,
            "overflow_y": null,
            "padding": null,
            "right": null,
            "top": null,
            "visibility": null,
            "width": null
          }
        },
        "0f04141ef71e47eda492db4a5b94cef5": {
          "model_module": "@jupyter-widgets/controls",
          "model_name": "ProgressStyleModel",
          "model_module_version": "1.5.0",
          "state": {
            "_model_module": "@jupyter-widgets/controls",
            "_model_module_version": "1.5.0",
            "_model_name": "ProgressStyleModel",
            "_view_count": null,
            "_view_module": "@jupyter-widgets/base",
            "_view_module_version": "1.2.0",
            "_view_name": "StyleView",
            "bar_color": null,
            "description_width": ""
          }
        },
        "adf3ba23030f40699f2c3556857c3aae": {
          "model_module": "@jupyter-widgets/base",
          "model_name": "LayoutModel",
          "model_module_version": "1.2.0",
          "state": {
            "_model_module": "@jupyter-widgets/base",
            "_model_module_version": "1.2.0",
            "_model_name": "LayoutModel",
            "_view_count": null,
            "_view_module": "@jupyter-widgets/base",
            "_view_module_version": "1.2.0",
            "_view_name": "LayoutView",
            "align_content": null,
            "align_items": null,
            "align_self": null,
            "border": null,
            "bottom": null,
            "display": null,
            "flex": null,
            "flex_flow": null,
            "grid_area": null,
            "grid_auto_columns": null,
            "grid_auto_flow": null,
            "grid_auto_rows": null,
            "grid_column": null,
            "grid_gap": null,
            "grid_row": null,
            "grid_template_areas": null,
            "grid_template_columns": null,
            "grid_template_rows": null,
            "height": null,
            "justify_content": null,
            "justify_items": null,
            "left": null,
            "margin": null,
            "max_height": null,
            "max_width": null,
            "min_height": null,
            "min_width": null,
            "object_fit": null,
            "object_position": null,
            "order": null,
            "overflow": null,
            "overflow_x": null,
            "overflow_y": null,
            "padding": null,
            "right": null,
            "top": null,
            "visibility": null,
            "width": null
          }
        },
        "40b9110752e648fb8e565bd8931663e8": {
          "model_module": "@jupyter-widgets/controls",
          "model_name": "DescriptionStyleModel",
          "model_module_version": "1.5.0",
          "state": {
            "_model_module": "@jupyter-widgets/controls",
            "_model_module_version": "1.5.0",
            "_model_name": "DescriptionStyleModel",
            "_view_count": null,
            "_view_module": "@jupyter-widgets/base",
            "_view_module_version": "1.2.0",
            "_view_name": "StyleView",
            "description_width": ""
          }
        }
      }
    }
  },
  "cells": [
    {
      "cell_type": "markdown",
      "metadata": {
        "id": "view-in-github",
        "colab_type": "text"
      },
      "source": [
        "<a href=\"https://colab.research.google.com/github/kunwarAbhay/NLP/blob/main/GNN/GNN.ipynb\" target=\"_parent\"><img src=\"https://colab.research.google.com/assets/colab-badge.svg\" alt=\"Open In Colab\"/></a>"
      ]
    },
    {
      "cell_type": "code",
      "source": [
        "!pip install torchmetrics"
      ],
      "metadata": {
        "colab": {
          "base_uri": "https://localhost:8080/"
        },
        "id": "F8YBuWQNPq-w",
        "outputId": "721a2a0e-f58f-4ecb-dd45-a56fea9e0078"
      },
      "execution_count": 1,
      "outputs": [
        {
          "output_type": "stream",
          "name": "stdout",
          "text": [
            "Collecting torchmetrics\n",
            "  Downloading torchmetrics-1.2.1-py3-none-any.whl (806 kB)\n",
            "\u001b[2K     \u001b[90m━━━━━━━━━━━━━━━━━━━━━━━━━━━━━━━━━━━━━━━━\u001b[0m \u001b[32m806.1/806.1 kB\u001b[0m \u001b[31m6.5 MB/s\u001b[0m eta \u001b[36m0:00:00\u001b[0m\n",
            "\u001b[?25hRequirement already satisfied: numpy>1.20.0 in /usr/local/lib/python3.10/dist-packages (from torchmetrics) (1.23.5)\n",
            "Requirement already satisfied: packaging>17.1 in /usr/local/lib/python3.10/dist-packages (from torchmetrics) (23.2)\n",
            "Requirement already satisfied: torch>=1.8.1 in /usr/local/lib/python3.10/dist-packages (from torchmetrics) (2.1.0+cu121)\n",
            "Collecting lightning-utilities>=0.8.0 (from torchmetrics)\n",
            "  Downloading lightning_utilities-0.10.0-py3-none-any.whl (24 kB)\n",
            "Requirement already satisfied: setuptools in /usr/local/lib/python3.10/dist-packages (from lightning-utilities>=0.8.0->torchmetrics) (67.7.2)\n",
            "Requirement already satisfied: typing-extensions in /usr/local/lib/python3.10/dist-packages (from lightning-utilities>=0.8.0->torchmetrics) (4.5.0)\n",
            "Requirement already satisfied: filelock in /usr/local/lib/python3.10/dist-packages (from torch>=1.8.1->torchmetrics) (3.13.1)\n",
            "Requirement already satisfied: sympy in /usr/local/lib/python3.10/dist-packages (from torch>=1.8.1->torchmetrics) (1.12)\n",
            "Requirement already satisfied: networkx in /usr/local/lib/python3.10/dist-packages (from torch>=1.8.1->torchmetrics) (3.2.1)\n",
            "Requirement already satisfied: jinja2 in /usr/local/lib/python3.10/dist-packages (from torch>=1.8.1->torchmetrics) (3.1.2)\n",
            "Requirement already satisfied: fsspec in /usr/local/lib/python3.10/dist-packages (from torch>=1.8.1->torchmetrics) (2023.6.0)\n",
            "Requirement already satisfied: triton==2.1.0 in /usr/local/lib/python3.10/dist-packages (from torch>=1.8.1->torchmetrics) (2.1.0)\n",
            "Requirement already satisfied: MarkupSafe>=2.0 in /usr/local/lib/python3.10/dist-packages (from jinja2->torch>=1.8.1->torchmetrics) (2.1.3)\n",
            "Requirement already satisfied: mpmath>=0.19 in /usr/local/lib/python3.10/dist-packages (from sympy->torch>=1.8.1->torchmetrics) (1.3.0)\n",
            "Installing collected packages: lightning-utilities, torchmetrics\n",
            "Successfully installed lightning-utilities-0.10.0 torchmetrics-1.2.1\n"
          ]
        }
      ]
    },
    {
      "cell_type": "code",
      "execution_count": 2,
      "metadata": {
        "id": "mb4-dM4d9n6c"
      },
      "outputs": [],
      "source": [
        "import torch\n",
        "import torch.nn as nn\n",
        "import torch.optim as optim\n",
        "from torchmetrics.classification import MulticlassAccuracy\n",
        "\n",
        "import networkx as nx\n",
        "import matplotlib.pyplot as plt\n",
        "from tqdm.auto import tqdm"
      ]
    },
    {
      "cell_type": "code",
      "source": [
        "edges = [[2, 1],\n",
        "        [3, 1], [3, 2],\n",
        "        [4, 1], [4, 2], [4, 3],\n",
        "        [5, 1],\n",
        "        [6, 1],\n",
        "        [7, 1], [7, 5], [7, 6],\n",
        "        [8, 1], [8, 2], [8, 3], [8, 4],\n",
        "        [9, 1], [9, 3],\n",
        "        [10, 3],\n",
        "        [11, 1], [11, 5], [11, 6],\n",
        "        [12, 1],\n",
        "        [13, 1], [13, 4],\n",
        "        [14, 1], [14, 2], [14, 3], [14, 4],\n",
        "        [17, 6], [17, 7],\n",
        "        [18, 1], [18, 2],\n",
        "        [20, 1], [20, 2],\n",
        "        [22, 1], [22, 2],\n",
        "        [26, 24], [26, 25],\n",
        "        [28, 3], [28, 24], [28, 25],\n",
        "        [29, 3],\n",
        "        [30, 24], [30, 27],\n",
        "        [31, 2], [31, 9],\n",
        "        [32, 1], [32, 25], [32, 26], [32, 29],\n",
        "        [33, 3], [33, 9], [33, 15], [33, 16], [33, 19], [33, 21], [33, 23], [33, 24], [33, 30], [33, 31], [33, 32],\n",
        "        [34, 9], [34, 10], [34, 14], [34, 15], [34, 16], [34, 19], [34, 20], [34, 21], [34, 23], [34, 24], [34, 27], [34, 28], [34, 29], [34, 30], [34, 31], [34, 32], [34, 33]]\n",
        "\n",
        "classes = [1, 1, 1, 1, 3, 3, 3, 1, 0, 1, 3, 1, 1, 1, 0, 0, 3, 1, 0, 1, 0, 1, 0, 0, 2, 2, 0, 0, 2, 0, 0, 2, 0, 0]"
      ],
      "metadata": {
        "id": "B0c1Dfn7-Tty"
      },
      "execution_count": 3,
      "outputs": []
    },
    {
      "cell_type": "code",
      "source": [
        "num_nodes = len(classes)\n",
        "num_edges = len(edges)\n",
        "num_classes = 4\n",
        "\n",
        "num_nodes, num_edges, num_classes"
      ],
      "metadata": {
        "colab": {
          "base_uri": "https://localhost:8080/"
        },
        "id": "uz2Yvv9BDyNH",
        "outputId": "36e9f3b0-8e0c-4d2e-bb7f-6d7165bbfd3a"
      },
      "execution_count": 4,
      "outputs": [
        {
          "output_type": "execute_result",
          "data": {
            "text/plain": [
              "(34, 78, 4)"
            ]
          },
          "metadata": {},
          "execution_count": 4
        }
      ]
    },
    {
      "cell_type": "code",
      "source": [
        "torch.manual_seed(1234)"
      ],
      "metadata": {
        "colab": {
          "base_uri": "https://localhost:8080/"
        },
        "id": "X0rXbCnzVoPN",
        "outputId": "8fdfd0d0-9234-465a-a208-c23f7af97159"
      },
      "execution_count": 5,
      "outputs": [
        {
          "output_type": "execute_result",
          "data": {
            "text/plain": [
              "<torch._C.Generator at 0x7a4ebbf02710>"
            ]
          },
          "metadata": {},
          "execution_count": 5
        }
      ]
    },
    {
      "cell_type": "code",
      "source": [
        "class GCN(nn.Module):\n",
        "  def __init__(self, input_dim, output_dim):\n",
        "    super().__init__()\n",
        "    self.W1 = nn.Linear(input_dim, 4, bias=False)\n",
        "    self.W2 = nn.Linear(4, 4, bias=False)\n",
        "    self.W3 = nn.Linear(4, 2, bias=False)\n",
        "    self.tanh = nn.Tanh()\n",
        "    self.classifier = nn.Linear(2, output_dim)\n",
        "\n",
        "  def forward(self, adjacency_matrix, node_features):\n",
        "    output_features = self.W1(torch.matmul(adjacency_matrix, node_features))\n",
        "    output_features = self.tanh(output_features)\n",
        "\n",
        "    output_features = self.W2(torch.matmul(adjacency_matrix, output_features))\n",
        "    output_features = self.tanh(output_features)\n",
        "\n",
        "    output_features = self.W3(torch.matmul(adjacency_matrix, output_features))\n",
        "    output_features = self.tanh(output_features)\n",
        "\n",
        "    output = self.classifier(output_features)\n",
        "\n",
        "    return output"
      ],
      "metadata": {
        "id": "IqGrj7-pB_Xw"
      },
      "execution_count": 6,
      "outputs": []
    },
    {
      "cell_type": "code",
      "source": [
        "model = GCN(num_nodes, num_classes)"
      ],
      "metadata": {
        "id": "oXJtX41dH8BY"
      },
      "execution_count": 7,
      "outputs": []
    },
    {
      "cell_type": "code",
      "source": [
        "criterion = nn.CrossEntropyLoss()\n",
        "optimizer = optim.Adam(params=model.parameters(), lr=0.01)\n",
        "accuracy_fn = MulticlassAccuracy(num_classes=num_classes)"
      ],
      "metadata": {
        "id": "lCBRdRgOKF5J"
      },
      "execution_count": 8,
      "outputs": []
    },
    {
      "cell_type": "code",
      "source": [
        "A = torch.eye(num_nodes) # Adjacency Matrix\n",
        "\n",
        "for [src, tgt] in edges:\n",
        "  src, tgt = src - 1, tgt - 1 # convert to 0-based indexes\n",
        "  A[src][tgt] = 1\n",
        "  A[tgt][src] = 1\n",
        "\n",
        "X = A # Feature Matrix | Here Feature Matrix is same as Adjacency Matrix\n",
        "\n",
        "y = torch.tensor(classes) # Actual Node Labels"
      ],
      "metadata": {
        "id": "VUvbXi3MKfk2"
      },
      "execution_count": 9,
      "outputs": []
    },
    {
      "cell_type": "code",
      "source": [
        "mask = torch.zeros(num_nodes)\n",
        "\n",
        "visited = set()\n",
        "\n",
        "for i, c in enumerate(classes):\n",
        "  if c in visited:\n",
        "    mask[i] = 0\n",
        "  else:\n",
        "    visited.add(c)\n",
        "    mask[i] = 1\n",
        "\n",
        "mask"
      ],
      "metadata": {
        "colab": {
          "base_uri": "https://localhost:8080/"
        },
        "id": "bS8NjtKEXCz8",
        "outputId": "b7f75211-8d33-48d7-f532-d2ffe68cb298"
      },
      "execution_count": 10,
      "outputs": [
        {
          "output_type": "execute_result",
          "data": {
            "text/plain": [
              "tensor([1., 0., 0., 0., 1., 0., 0., 0., 1., 0., 0., 0., 0., 0., 0., 0., 0., 0.,\n",
              "        0., 0., 0., 0., 0., 0., 1., 0., 0., 0., 0., 0., 0., 0., 0., 0.])"
            ]
          },
          "metadata": {},
          "execution_count": 10
        }
      ]
    },
    {
      "cell_type": "code",
      "source": [
        "# Training\n",
        "epochs = 1200\n",
        "\n",
        "for epoch in tqdm(range(epochs)):\n",
        "  model.train()\n",
        "\n",
        "  # Forward Pass\n",
        "  y_logits = model(A, X)\n",
        "\n",
        "  y_pred = torch.softmax(y_logits, dim=1).argmax(dim=1)\n",
        "\n",
        "  # Calculate the loss and acccuracy\n",
        "  y_logits_masked = [y_logits[i] for i in range(len(mask)) if mask[i] == 1]\n",
        "  y_masked = [y[i] for i in range(len(mask)) if mask[i] == 1]\n",
        "\n",
        "  y_logits_masked = torch.stack(y_logits_masked)\n",
        "  y_masked = torch.tensor(y_masked)\n",
        "\n",
        "  loss = criterion(y_logits_masked,y_masked)\n",
        "\n",
        "  accuracy = accuracy_fn(y_pred, y)\n",
        "\n",
        "  # Update the parameters\n",
        "  optimizer.zero_grad()\n",
        "\n",
        "  loss.backward()\n",
        "\n",
        "  optimizer.step()\n",
        "\n",
        "  if epoch % 100 == 0:\n",
        "    print(f\"Epoch: {epoch} | Loss: {loss} | Accuracy: {accuracy}\")"
      ],
      "metadata": {
        "colab": {
          "base_uri": "https://localhost:8080/",
          "height": 257,
          "referenced_widgets": [
            "6c79eed2a79b42369ee94382f96d12bf",
            "1beacb0873ff4ac59fca44af00ed44ca",
            "53ff177066444cba8029108766250842",
            "0b8374c93936479dbce94ef672f4c717",
            "7056dfa4ad674c4bb5b4c926f5b3d43d",
            "50d497af596449d58c49655d4c341a47",
            "2763f3704ce64c388225933a2f92aa38",
            "1b565ebf73ea40ae83fffc3ad0944962",
            "0f04141ef71e47eda492db4a5b94cef5",
            "adf3ba23030f40699f2c3556857c3aae",
            "40b9110752e648fb8e565bd8931663e8"
          ]
        },
        "id": "uLYd-e-QKSFZ",
        "outputId": "b44f94f5-6f8c-43ea-8dd8-7f811388cf70"
      },
      "execution_count": 11,
      "outputs": [
        {
          "output_type": "display_data",
          "data": {
            "text/plain": [
              "  0%|          | 0/1200 [00:00<?, ?it/s]"
            ],
            "application/vnd.jupyter.widget-view+json": {
              "version_major": 2,
              "version_minor": 0,
              "model_id": "6c79eed2a79b42369ee94382f96d12bf"
            }
          },
          "metadata": {}
        },
        {
          "output_type": "stream",
          "name": "stdout",
          "text": [
            "Epoch: 0 | Loss: 1.3931266069412231 | Accuracy: 0.25\n",
            "Epoch: 100 | Loss: 0.813456118106842 | Accuracy: 0.4314102530479431\n",
            "Epoch: 200 | Loss: 0.4334444999694824 | Accuracy: 0.5189102292060852\n",
            "Epoch: 300 | Loss: 0.38085147738456726 | Accuracy: 0.5605769157409668\n",
            "Epoch: 400 | Loss: 0.3711123466491699 | Accuracy: 0.6137820482254028\n",
            "Epoch: 500 | Loss: 0.36276090145111084 | Accuracy: 0.6137820482254028\n",
            "Epoch: 600 | Loss: 0.3584613502025604 | Accuracy: 0.6762820482254028\n",
            "Epoch: 700 | Loss: 0.3557548522949219 | Accuracy: 0.6762820482254028\n",
            "Epoch: 800 | Loss: 0.3530580401420593 | Accuracy: 0.5384615659713745\n",
            "Epoch: 900 | Loss: 0.04132305458188057 | Accuracy: 0.7804487347602844\n",
            "Epoch: 1000 | Loss: 0.018633658066391945 | Accuracy: 0.7804487347602844\n",
            "Epoch: 1100 | Loss: 0.011970417574048042 | Accuracy: 0.7804487347602844\n"
          ]
        }
      ]
    }
  ]
}