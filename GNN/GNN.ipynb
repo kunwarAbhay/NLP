{
  "nbformat": 4,
  "nbformat_minor": 0,
  "metadata": {
    "colab": {
      "provenance": [],
      "authorship_tag": "ABX9TyN2MEl6rUbVdVumNsPJ7YYR",
      "include_colab_link": true
    },
    "kernelspec": {
      "name": "python3",
      "display_name": "Python 3"
    },
    "language_info": {
      "name": "python"
    },
    "widgets": {
      "application/vnd.jupyter.widget-state+json": {
        "e75feeb29116463ba663e7023684446d": {
          "model_module": "@jupyter-widgets/controls",
          "model_name": "HBoxModel",
          "model_module_version": "1.5.0",
          "state": {
            "_dom_classes": [],
            "_model_module": "@jupyter-widgets/controls",
            "_model_module_version": "1.5.0",
            "_model_name": "HBoxModel",
            "_view_count": null,
            "_view_module": "@jupyter-widgets/controls",
            "_view_module_version": "1.5.0",
            "_view_name": "HBoxView",
            "box_style": "",
            "children": [
              "IPY_MODEL_bea11dc1ab97421caf910c3cfa08a318",
              "IPY_MODEL_4f24632e1dc948c2a6b5bb4f8e65e370",
              "IPY_MODEL_42d30bd3e89142c0be952de90c4e0209"
            ],
            "layout": "IPY_MODEL_e48cf96696c2456795cf71c559c66f9a"
          }
        },
        "bea11dc1ab97421caf910c3cfa08a318": {
          "model_module": "@jupyter-widgets/controls",
          "model_name": "HTMLModel",
          "model_module_version": "1.5.0",
          "state": {
            "_dom_classes": [],
            "_model_module": "@jupyter-widgets/controls",
            "_model_module_version": "1.5.0",
            "_model_name": "HTMLModel",
            "_view_count": null,
            "_view_module": "@jupyter-widgets/controls",
            "_view_module_version": "1.5.0",
            "_view_name": "HTMLView",
            "description": "",
            "description_tooltip": null,
            "layout": "IPY_MODEL_75fe1e865a1a483ba127dd6ef95d72fb",
            "placeholder": "​",
            "style": "IPY_MODEL_e77bda91b453457b87675470d99b2b2f",
            "value": "100%"
          }
        },
        "4f24632e1dc948c2a6b5bb4f8e65e370": {
          "model_module": "@jupyter-widgets/controls",
          "model_name": "FloatProgressModel",
          "model_module_version": "1.5.0",
          "state": {
            "_dom_classes": [],
            "_model_module": "@jupyter-widgets/controls",
            "_model_module_version": "1.5.0",
            "_model_name": "FloatProgressModel",
            "_view_count": null,
            "_view_module": "@jupyter-widgets/controls",
            "_view_module_version": "1.5.0",
            "_view_name": "ProgressView",
            "bar_style": "success",
            "description": "",
            "description_tooltip": null,
            "layout": "IPY_MODEL_98a1d9aca61f4c0a83a177ec72da3304",
            "max": 1200,
            "min": 0,
            "orientation": "horizontal",
            "style": "IPY_MODEL_0793e0d49ce54ecab516f68aedfa2143",
            "value": 1200
          }
        },
        "42d30bd3e89142c0be952de90c4e0209": {
          "model_module": "@jupyter-widgets/controls",
          "model_name": "HTMLModel",
          "model_module_version": "1.5.0",
          "state": {
            "_dom_classes": [],
            "_model_module": "@jupyter-widgets/controls",
            "_model_module_version": "1.5.0",
            "_model_name": "HTMLModel",
            "_view_count": null,
            "_view_module": "@jupyter-widgets/controls",
            "_view_module_version": "1.5.0",
            "_view_name": "HTMLView",
            "description": "",
            "description_tooltip": null,
            "layout": "IPY_MODEL_232cedbf85b14383be2dba81a4c7f4db",
            "placeholder": "​",
            "style": "IPY_MODEL_e47d472c1b6f40bf812c000807a4e5b2",
            "value": " 1200/1200 [00:04&lt;00:00, 285.04it/s]"
          }
        },
        "e48cf96696c2456795cf71c559c66f9a": {
          "model_module": "@jupyter-widgets/base",
          "model_name": "LayoutModel",
          "model_module_version": "1.2.0",
          "state": {
            "_model_module": "@jupyter-widgets/base",
            "_model_module_version": "1.2.0",
            "_model_name": "LayoutModel",
            "_view_count": null,
            "_view_module": "@jupyter-widgets/base",
            "_view_module_version": "1.2.0",
            "_view_name": "LayoutView",
            "align_content": null,
            "align_items": null,
            "align_self": null,
            "border": null,
            "bottom": null,
            "display": null,
            "flex": null,
            "flex_flow": null,
            "grid_area": null,
            "grid_auto_columns": null,
            "grid_auto_flow": null,
            "grid_auto_rows": null,
            "grid_column": null,
            "grid_gap": null,
            "grid_row": null,
            "grid_template_areas": null,
            "grid_template_columns": null,
            "grid_template_rows": null,
            "height": null,
            "justify_content": null,
            "justify_items": null,
            "left": null,
            "margin": null,
            "max_height": null,
            "max_width": null,
            "min_height": null,
            "min_width": null,
            "object_fit": null,
            "object_position": null,
            "order": null,
            "overflow": null,
            "overflow_x": null,
            "overflow_y": null,
            "padding": null,
            "right": null,
            "top": null,
            "visibility": null,
            "width": null
          }
        },
        "75fe1e865a1a483ba127dd6ef95d72fb": {
          "model_module": "@jupyter-widgets/base",
          "model_name": "LayoutModel",
          "model_module_version": "1.2.0",
          "state": {
            "_model_module": "@jupyter-widgets/base",
            "_model_module_version": "1.2.0",
            "_model_name": "LayoutModel",
            "_view_count": null,
            "_view_module": "@jupyter-widgets/base",
            "_view_module_version": "1.2.0",
            "_view_name": "LayoutView",
            "align_content": null,
            "align_items": null,
            "align_self": null,
            "border": null,
            "bottom": null,
            "display": null,
            "flex": null,
            "flex_flow": null,
            "grid_area": null,
            "grid_auto_columns": null,
            "grid_auto_flow": null,
            "grid_auto_rows": null,
            "grid_column": null,
            "grid_gap": null,
            "grid_row": null,
            "grid_template_areas": null,
            "grid_template_columns": null,
            "grid_template_rows": null,
            "height": null,
            "justify_content": null,
            "justify_items": null,
            "left": null,
            "margin": null,
            "max_height": null,
            "max_width": null,
            "min_height": null,
            "min_width": null,
            "object_fit": null,
            "object_position": null,
            "order": null,
            "overflow": null,
            "overflow_x": null,
            "overflow_y": null,
            "padding": null,
            "right": null,
            "top": null,
            "visibility": null,
            "width": null
          }
        },
        "e77bda91b453457b87675470d99b2b2f": {
          "model_module": "@jupyter-widgets/controls",
          "model_name": "DescriptionStyleModel",
          "model_module_version": "1.5.0",
          "state": {
            "_model_module": "@jupyter-widgets/controls",
            "_model_module_version": "1.5.0",
            "_model_name": "DescriptionStyleModel",
            "_view_count": null,
            "_view_module": "@jupyter-widgets/base",
            "_view_module_version": "1.2.0",
            "_view_name": "StyleView",
            "description_width": ""
          }
        },
        "98a1d9aca61f4c0a83a177ec72da3304": {
          "model_module": "@jupyter-widgets/base",
          "model_name": "LayoutModel",
          "model_module_version": "1.2.0",
          "state": {
            "_model_module": "@jupyter-widgets/base",
            "_model_module_version": "1.2.0",
            "_model_name": "LayoutModel",
            "_view_count": null,
            "_view_module": "@jupyter-widgets/base",
            "_view_module_version": "1.2.0",
            "_view_name": "LayoutView",
            "align_content": null,
            "align_items": null,
            "align_self": null,
            "border": null,
            "bottom": null,
            "display": null,
            "flex": null,
            "flex_flow": null,
            "grid_area": null,
            "grid_auto_columns": null,
            "grid_auto_flow": null,
            "grid_auto_rows": null,
            "grid_column": null,
            "grid_gap": null,
            "grid_row": null,
            "grid_template_areas": null,
            "grid_template_columns": null,
            "grid_template_rows": null,
            "height": null,
            "justify_content": null,
            "justify_items": null,
            "left": null,
            "margin": null,
            "max_height": null,
            "max_width": null,
            "min_height": null,
            "min_width": null,
            "object_fit": null,
            "object_position": null,
            "order": null,
            "overflow": null,
            "overflow_x": null,
            "overflow_y": null,
            "padding": null,
            "right": null,
            "top": null,
            "visibility": null,
            "width": null
          }
        },
        "0793e0d49ce54ecab516f68aedfa2143": {
          "model_module": "@jupyter-widgets/controls",
          "model_name": "ProgressStyleModel",
          "model_module_version": "1.5.0",
          "state": {
            "_model_module": "@jupyter-widgets/controls",
            "_model_module_version": "1.5.0",
            "_model_name": "ProgressStyleModel",
            "_view_count": null,
            "_view_module": "@jupyter-widgets/base",
            "_view_module_version": "1.2.0",
            "_view_name": "StyleView",
            "bar_color": null,
            "description_width": ""
          }
        },
        "232cedbf85b14383be2dba81a4c7f4db": {
          "model_module": "@jupyter-widgets/base",
          "model_name": "LayoutModel",
          "model_module_version": "1.2.0",
          "state": {
            "_model_module": "@jupyter-widgets/base",
            "_model_module_version": "1.2.0",
            "_model_name": "LayoutModel",
            "_view_count": null,
            "_view_module": "@jupyter-widgets/base",
            "_view_module_version": "1.2.0",
            "_view_name": "LayoutView",
            "align_content": null,
            "align_items": null,
            "align_self": null,
            "border": null,
            "bottom": null,
            "display": null,
            "flex": null,
            "flex_flow": null,
            "grid_area": null,
            "grid_auto_columns": null,
            "grid_auto_flow": null,
            "grid_auto_rows": null,
            "grid_column": null,
            "grid_gap": null,
            "grid_row": null,
            "grid_template_areas": null,
            "grid_template_columns": null,
            "grid_template_rows": null,
            "height": null,
            "justify_content": null,
            "justify_items": null,
            "left": null,
            "margin": null,
            "max_height": null,
            "max_width": null,
            "min_height": null,
            "min_width": null,
            "object_fit": null,
            "object_position": null,
            "order": null,
            "overflow": null,
            "overflow_x": null,
            "overflow_y": null,
            "padding": null,
            "right": null,
            "top": null,
            "visibility": null,
            "width": null
          }
        },
        "e47d472c1b6f40bf812c000807a4e5b2": {
          "model_module": "@jupyter-widgets/controls",
          "model_name": "DescriptionStyleModel",
          "model_module_version": "1.5.0",
          "state": {
            "_model_module": "@jupyter-widgets/controls",
            "_model_module_version": "1.5.0",
            "_model_name": "DescriptionStyleModel",
            "_view_count": null,
            "_view_module": "@jupyter-widgets/base",
            "_view_module_version": "1.2.0",
            "_view_name": "StyleView",
            "description_width": ""
          }
        }
      }
    }
  },
  "cells": [
    {
      "cell_type": "markdown",
      "metadata": {
        "id": "view-in-github",
        "colab_type": "text"
      },
      "source": [
        "<a href=\"https://colab.research.google.com/github/kunwarAbhay/NLP/blob/main/GNN/GNN.ipynb\" target=\"_parent\"><img src=\"https://colab.research.google.com/assets/colab-badge.svg\" alt=\"Open In Colab\"/></a>"
      ]
    },
    {
      "cell_type": "code",
      "source": [
        "!pip install torchmetrics"
      ],
      "metadata": {
        "id": "F8YBuWQNPq-w"
      },
      "execution_count": null,
      "outputs": []
    },
    {
      "cell_type": "code",
      "execution_count": 175,
      "metadata": {
        "id": "mb4-dM4d9n6c"
      },
      "outputs": [],
      "source": [
        "import torch\n",
        "import torch.nn as nn\n",
        "import torch.optim as optim\n",
        "from torchmetrics.classification import MulticlassAccuracy\n",
        "\n",
        "import networkx as nx\n",
        "import matplotlib.pyplot as plt\n",
        "from tqdm.auto import tqdm"
      ]
    },
    {
      "cell_type": "code",
      "source": [
        "edges = [[2, 1],\n",
        "        [3, 1], [3, 2],\n",
        "        [4, 1], [4, 2], [4, 3],\n",
        "        [5, 1],\n",
        "        [6, 1],\n",
        "        [7, 1], [7, 5], [7, 6],\n",
        "        [8, 1], [8, 2], [8, 3], [8, 4],\n",
        "        [9, 1], [9, 3],\n",
        "        [10, 3],\n",
        "        [11, 1], [11, 5], [11, 6],\n",
        "        [12, 1],\n",
        "        [13, 1], [13, 4],\n",
        "        [14, 1], [14, 2], [14, 3], [14, 4],\n",
        "        [17, 6], [17, 7],\n",
        "        [18, 1], [18, 2],\n",
        "        [20, 1], [20, 2],\n",
        "        [22, 1], [22, 2],\n",
        "        [26, 24], [26, 25],\n",
        "        [28, 3], [28, 24], [28, 25],\n",
        "        [29, 3],\n",
        "        [30, 24], [30, 27],\n",
        "        [31, 2], [31, 9],\n",
        "        [32, 1], [32, 25], [32, 26], [32, 29],\n",
        "        [33, 3], [33, 9], [33, 15], [33, 16], [33, 19], [33, 21], [33, 23], [33, 24], [33, 30], [33, 31], [33, 32],\n",
        "        [34, 9], [34, 10], [34, 14], [34, 15], [34, 16], [34, 19], [34, 20], [34, 21], [34, 23], [34, 24], [34, 27], [34, 28], [34, 29], [34, 30], [34, 31], [34, 32], [34, 33]]\n",
        "\n",
        "classes = [1, 1, 1, 1, 3, 3, 3, 1, 0, 1, 3, 1, 1, 1, 0, 0, 3, 1, 0, 1, 0, 1, 0, 0, 2, 2, 0, 0, 2, 0, 0, 2, 0, 0]"
      ],
      "metadata": {
        "id": "B0c1Dfn7-Tty"
      },
      "execution_count": 176,
      "outputs": []
    },
    {
      "cell_type": "code",
      "source": [
        "num_nodes = len(classes)\n",
        "num_edges = len(edges)\n",
        "num_classes = 4\n",
        "\n",
        "num_nodes, num_edges, num_classes"
      ],
      "metadata": {
        "colab": {
          "base_uri": "https://localhost:8080/"
        },
        "id": "uz2Yvv9BDyNH",
        "outputId": "a4ab703f-1ef5-4bba-aec6-1b649f08414f"
      },
      "execution_count": 177,
      "outputs": [
        {
          "output_type": "execute_result",
          "data": {
            "text/plain": [
              "(34, 78, 4)"
            ]
          },
          "metadata": {},
          "execution_count": 177
        }
      ]
    },
    {
      "cell_type": "code",
      "source": [
        "torch.manual_seed(42)"
      ],
      "metadata": {
        "colab": {
          "base_uri": "https://localhost:8080/"
        },
        "id": "X0rXbCnzVoPN",
        "outputId": "4b915b82-b8fc-4aeb-e744-19d3290f4a49"
      },
      "execution_count": 178,
      "outputs": [
        {
          "output_type": "execute_result",
          "data": {
            "text/plain": [
              "<torch._C.Generator at 0x7ca3e829d4f0>"
            ]
          },
          "metadata": {},
          "execution_count": 178
        }
      ]
    },
    {
      "cell_type": "code",
      "source": [
        "class GCN(nn.Module):\n",
        "  def __init__(self, input_dim, output_dim):\n",
        "    super().__init__()\n",
        "    self.W1 = nn.Linear(input_dim, 4)\n",
        "    self.W2 = nn.Linear(4, 4)\n",
        "    self.W3 = nn.Linear(4, 2)\n",
        "    self.tanh = nn.Tanh()\n",
        "    self.classifier = nn.Linear(2, output_dim)\n",
        "\n",
        "  def forward(self, adjacency_matrix, node_features):\n",
        "    output_features = self.W1(torch.matmul(adjacency_matrix, node_features))\n",
        "    output_features = self.tanh(output_features)\n",
        "\n",
        "    output_features = self.W2(torch.matmul(adjacency_matrix, output_features))\n",
        "    output_features = self.tanh(output_features)\n",
        "\n",
        "    output_features = self.W3(torch.matmul(adjacency_matrix, output_features))\n",
        "    output_features = self.tanh(output_features)\n",
        "\n",
        "    output = self.classifier(output_features)\n",
        "\n",
        "    return output"
      ],
      "metadata": {
        "id": "IqGrj7-pB_Xw"
      },
      "execution_count": 179,
      "outputs": []
    },
    {
      "cell_type": "code",
      "source": [
        "model = GCN(num_nodes, num_classes)"
      ],
      "metadata": {
        "id": "oXJtX41dH8BY"
      },
      "execution_count": 180,
      "outputs": []
    },
    {
      "cell_type": "code",
      "source": [
        "criterion = nn.CrossEntropyLoss()\n",
        "optimizer = optim.Adam(params=model.parameters(), lr=0.01)\n",
        "accuracy_fn = MulticlassAccuracy(num_classes=num_classes)"
      ],
      "metadata": {
        "id": "lCBRdRgOKF5J"
      },
      "execution_count": 181,
      "outputs": []
    },
    {
      "cell_type": "code",
      "source": [
        "A = torch.eye(num_nodes) # Adjacency Matrix\n",
        "\n",
        "for [src, tgt] in edges:\n",
        "  src, tgt = src - 1, tgt - 1 # convert to 0-based indexes\n",
        "  A[src][tgt] = 1\n",
        "  A[tgt][src] = 1\n",
        "\n",
        "X = A # Feature Matrix | Here Feature Matrix is same as Adjacency Matrix\n",
        "\n",
        "y = torch.tensor(classes) # Actual Node Labels"
      ],
      "metadata": {
        "id": "VUvbXi3MKfk2"
      },
      "execution_count": 182,
      "outputs": []
    },
    {
      "cell_type": "code",
      "source": [
        "mask = torch.zeros(num_nodes)\n",
        "\n",
        "visited = set()\n",
        "\n",
        "for i, c in enumerate(classes):\n",
        "  if c in visited:\n",
        "    mask[i] = 0\n",
        "  else:\n",
        "    visited.add(c)\n",
        "    mask[i] = 1\n",
        "\n",
        "mask"
      ],
      "metadata": {
        "colab": {
          "base_uri": "https://localhost:8080/"
        },
        "id": "bS8NjtKEXCz8",
        "outputId": "0015a538-f843-480a-c225-14e253402da5"
      },
      "execution_count": 183,
      "outputs": [
        {
          "output_type": "execute_result",
          "data": {
            "text/plain": [
              "tensor([1., 0., 0., 0., 1., 0., 0., 0., 1., 0., 0., 0., 0., 0., 0., 0., 0., 0.,\n",
              "        0., 0., 0., 0., 0., 0., 1., 0., 0., 0., 0., 0., 0., 0., 0., 0.])"
            ]
          },
          "metadata": {},
          "execution_count": 183
        }
      ]
    },
    {
      "cell_type": "code",
      "source": [
        "# Training\n",
        "epochs = 1200\n",
        "\n",
        "for epoch in tqdm(range(epochs)):\n",
        "  model.train()\n",
        "\n",
        "  # Forward Pass\n",
        "  y_logits = model(A, X)\n",
        "\n",
        "  y_pred = torch.softmax(y_logits, dim=1).argmax(dim=1)\n",
        "\n",
        "  # Calculate the loss and acccuracy\n",
        "  y_logits_masked = [y_logits[i] for i in range(len(mask)) if mask[i] == 1]\n",
        "  y_masked = [y[i] for i in range(len(mask)) if mask[i] == 1]\n",
        "\n",
        "  y_logits_masked = torch.stack(y_logits_masked)\n",
        "  y_masked = torch.tensor(y_masked)\n",
        "\n",
        "  loss = criterion(y_logits_masked,y_masked)\n",
        "\n",
        "  accuracy = accuracy_fn(y_pred, y)\n",
        "\n",
        "  # Update the parameters\n",
        "  optimizer.zero_grad()\n",
        "\n",
        "  loss.backward()\n",
        "\n",
        "  optimizer.step()\n",
        "\n",
        "  if epoch % 100 == 0:\n",
        "    print(f\"Epoch: {epoch} | Loss: {loss} | Accuracy: {accuracy}\")"
      ],
      "metadata": {
        "colab": {
          "base_uri": "https://localhost:8080/",
          "height": 257,
          "referenced_widgets": [
            "e75feeb29116463ba663e7023684446d",
            "bea11dc1ab97421caf910c3cfa08a318",
            "4f24632e1dc948c2a6b5bb4f8e65e370",
            "42d30bd3e89142c0be952de90c4e0209",
            "e48cf96696c2456795cf71c559c66f9a",
            "75fe1e865a1a483ba127dd6ef95d72fb",
            "e77bda91b453457b87675470d99b2b2f",
            "98a1d9aca61f4c0a83a177ec72da3304",
            "0793e0d49ce54ecab516f68aedfa2143",
            "232cedbf85b14383be2dba81a4c7f4db",
            "e47d472c1b6f40bf812c000807a4e5b2"
          ]
        },
        "id": "uLYd-e-QKSFZ",
        "outputId": "d72fb668-0b3f-46f0-add3-93fa877019b3"
      },
      "execution_count": 185,
      "outputs": [
        {
          "output_type": "display_data",
          "data": {
            "text/plain": [
              "  0%|          | 0/1200 [00:00<?, ?it/s]"
            ],
            "application/vnd.jupyter.widget-view+json": {
              "version_major": 2,
              "version_minor": 0,
              "model_id": "e75feeb29116463ba663e7023684446d"
            }
          },
          "metadata": {}
        },
        {
          "output_type": "stream",
          "name": "stdout",
          "text": [
            "Epoch: 0 | Loss: 0.35047680139541626 | Accuracy: 0.5208333730697632\n",
            "Epoch: 100 | Loss: 0.3499847650527954 | Accuracy: 0.5416666269302368\n",
            "Epoch: 200 | Loss: 0.34957852959632874 | Accuracy: 0.5753204822540283\n",
            "Epoch: 300 | Loss: 0.3492385149002075 | Accuracy: 0.48878204822540283\n",
            "Epoch: 400 | Loss: 0.34894859790802 | Accuracy: 0.4679487347602844\n",
            "Epoch: 500 | Loss: 0.34863558411598206 | Accuracy: 0.4679487347602844\n",
            "Epoch: 600 | Loss: 0.12396866083145142 | Accuracy: 0.5160256624221802\n",
            "Epoch: 700 | Loss: 0.07181330025196075 | Accuracy: 0.5160256624221802\n",
            "Epoch: 800 | Loss: 0.05139176547527313 | Accuracy: 0.5160256624221802\n",
            "Epoch: 900 | Loss: 0.03961380198597908 | Accuracy: 0.5160256624221802\n",
            "Epoch: 1000 | Loss: 0.031910818070173264 | Accuracy: 0.5160256624221802\n",
            "Epoch: 1100 | Loss: 0.026480522006750107 | Accuracy: 0.5160256624221802\n"
          ]
        }
      ]
    }
  ]
}